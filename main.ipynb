{
  "cells": [
    {
      "cell_type": "markdown",
      "metadata": {
        "id": "aUWVeZxc1alZ"
      },
      "source": [
        "# **Python Implementation of Needleman-Wunsch Alogorith**"
      ]
    },
    {
      "cell_type": "code",
      "execution_count": 1,
      "metadata": {
        "id": "tsgQa6KFnvUk"
      },
      "outputs": [],
      "source": [
        "import numpy as np"
      ]
    },
    {
      "cell_type": "code",
      "execution_count": 9,
      "metadata": {
        "id": "qTvKlpSEmnXi"
      },
      "outputs": [],
      "source": [
        "def nw(seq1: str, seq2: str):\n",
        "    \"\"\"\n",
        "    Parameters:\n",
        "    - seq1 (str): The first input sequence.\n",
        "    - seq2 (str): The second input sequence.\n",
        "\n",
        "    Output:\n",
        "    str: A string containing the two aligned sequences along with formatting and the respective alignment score.\n",
        "\n",
        "    Algorithm Steps:\n",
        "    1. Set up the alignment and scoring matrices.\n",
        "    2. Populate the scoring matrix with match and mismatch values.\n",
        "    3. Assign gap-penalty values in the alignment matrix.\n",
        "    4. Use dynamic programming to fill the alignment matrix and determine the optimal alignment.\n",
        "    5. Perform backtracking to retrieve the aligned sequences.\n",
        "    6. Print the alignment results with formatting and alignment score.\n",
        "    \"\"\"\n",
        "    #Initializing the matrices\n",
        "    alignment_m = np.zeros((len(seq1) + 1, len(seq2) + 1))\n",
        "    scoring_m = np.zeros((len(seq1), len(seq2)))\n",
        "\n",
        "    #Scores\n",
        "    match = 1\n",
        "    mismatch = -1\n",
        "    gap = -2\n",
        "\n",
        "    # Matrix Filling\n",
        "    for i in range(len(seq1)):\n",
        "        for j in range(len(seq2)):\n",
        "            if seq1[i] == seq2[j]:\n",
        "                scoring_m[i][j] = match\n",
        "            else:\n",
        "                scoring_m[i][j] = mismatch\n",
        "\n",
        "    #Initializing the gap-penalty values in matrix\n",
        "    for i in range(len(seq1) + 1):\n",
        "        alignment_m[i][0] = i * gap\n",
        "    for j in range(len(seq2) + 1):\n",
        "        alignment_m[0][j] = j * gap\n",
        "\n",
        "    #Matrix Filling\n",
        "    for i in range(1, len(seq1) + 1):\n",
        "        for j in range(1, len(seq2) + 1):\n",
        "            alignment_m[i][j] = max(alignment_m[i - 1][j - 1] + scoring_m[i - 1][j - 1],\n",
        "                                    alignment_m[i - 1][j] + gap,\n",
        "                                    alignment_m[i][j - 1] + gap)\n",
        "    score = alignment_m[-1][-1]\n",
        "\n",
        "    #Backtracking:\n",
        "    aligned_1 = \"\"\n",
        "    aligned_2 = \"\"\n",
        "    aln_symbol = \"\"\n",
        "    seq_i, seq_j = len(seq1), len(seq2)\n",
        "\n",
        "    while seq_i > 0 or seq_j > 0:\n",
        "        if seq_i > 0 and seq_j > 0 and alignment_m[seq_i][seq_j] == alignment_m[seq_i - 1][seq_j - 1] + \\\n",
        "                scoring_m[seq_i - 1][seq_j - 1]:\n",
        "            aligned_1 = seq1[seq_i - 1] + aligned_1\n",
        "            aligned_2 = seq2[seq_j - 1] + aligned_2\n",
        "\n",
        "            if seq1[seq_i - 1] == seq2[seq_j - 1]:\n",
        "                aln_symbol = \"|\" + aln_symbol\n",
        "            else:\n",
        "                aln_symbol = \" \" + aln_symbol\n",
        "\n",
        "            seq_i -= 1\n",
        "            seq_j -= 1\n",
        "\n",
        "        elif seq_i > 0 and alignment_m[seq_i][seq_j] == alignment_m[seq_i - 1][seq_j] + gap:\n",
        "            aligned_1 = seq1[seq_i - 1] + aligned_1\n",
        "            aligned_2 = \"-\" + aligned_2\n",
        "\n",
        "            if seq1[seq_i - 1] == seq2[seq_j - 1]:\n",
        "                aln_symbol = \"|\" + aln_symbol\n",
        "            else:\n",
        "                aln_symbol = \" \" + aln_symbol\n",
        "\n",
        "            seq_i -= 1\n",
        "\n",
        "        else:\n",
        "            aligned_1 = \"-\" + aligned_1\n",
        "            aligned_2 = seq2[seq_j - 1] + aligned_2\n",
        "\n",
        "            if seq1[seq_i - 1] == seq2[seq_j - 1]:\n",
        "                aln_symbol = \"|\" + aln_symbol\n",
        "            else:\n",
        "                aln_symbol = \" \" + aln_symbol\n",
        "\n",
        "            seq_j -= 1\n",
        "\n",
        "    print(f\"Sequence 1: {seq1}\\nSequence 2: {seq2}\")\n",
        "    print(f\"Alignment Result - \")\n",
        "    print(f\"{aligned_1}\")\n",
        "    print(f\"{aln_symbol}\")\n",
        "    print(f\"{aligned_2}\")\n",
        "    print(f\"Score = {score}\\n\")"
      ]
    },
    {
      "cell_type": "code",
      "execution_count": null,
      "metadata": {
        "colab": {
          "base_uri": "https://localhost:8080/"
        },
        "id": "Fui8p8IH4fD3",
        "outputId": "dbf809ca-399b-48ee-df5e-a8ed8adf965a"
      },
      "outputs": [],
      "source": [
        "#Before running the code please change the file path\n",
        "with open(\"seq.txt\", \"r\") as file:\n",
        "    lines = file.readlines()\n",
        "\n",
        "#Taking two strings at a time\n",
        "for i in range(0, len(lines), 2):\n",
        "    seq1 = lines[i].strip()\n",
        "    seq2 = lines[i + 1].strip()\n",
        "\n",
        "    alignment_result = nw(seq1, seq2)"
      ]
    }
  ],
  "metadata": {
    "colab": {
      "provenance": []
    },
    "kernelspec": {
      "display_name": "Python 3",
      "name": "python3"
    },
    "language_info": {
      "codemirror_mode": {
        "name": "ipython",
        "version": 3
      },
      "file_extension": ".py",
      "mimetype": "text/x-python",
      "name": "python",
      "nbconvert_exporter": "python",
      "pygments_lexer": "ipython3",
      "version": "3.11.5"
    }
  },
  "nbformat": 4,
  "nbformat_minor": 0
}
